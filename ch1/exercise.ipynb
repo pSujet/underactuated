{
 "cells": [
  {
   "cell_type": "markdown",
   "metadata": {},
   "source": [
    "**Exercise 1.1 (Atlas Backflips)**\n",
    "\n",
    "At the beginning of this chapter you have seen the Atlas humanoid doing a backflip. Now consider the robot in the two states captured in the figure above. Assuming that Atlas's actuators can produce unbounded torques  $u$, establish whether or not each of the following statements is true. Briefly justify your answer.\n",
    "\n",
    "*a. The state of the humanoid can be represented by the angles and the angular velocities of all its joints.*\n",
    "\n",
    "<u>Ans:</u> No, the humanoid is a floating system, so the state of the humanoid also includes the position and orientation of the base (center of mass).\n",
    "\n",
    "\n",
    "*b. While doing the backflip (state in the left figure), the humanoid is fully actuated.*\n",
    "\n",
    "<u>Ans:</u> No, the humanoid is underactuated. During the backflip, the robot cannot apply any wrench to change the trajectory of the center of mass. \n",
    "\n",
    "*c. While standing (state in the right figure), the humanoid is fully actuated.*  \n",
    "\n",
    "<u>Ans:</u> No, it is underactuated. The number of actuators is less than the number of degrees of freedom (i.e., there are six degrees of freedom more in the floating base than the number of actuators)."
   ]
  },
  {
   "cell_type": "markdown",
   "metadata": {},
   "source": [
    "**Exercise 1.2 (Trajectory Tracking in State Space)**\n",
    "\n",
    "a. <u>Ans:</u> Yes, because the system is fully actuated.\n",
    "\n",
    "b. <u>Ans:</u> Since $u = m\\ddot{q}$, this input can only move the system along a vertical line (y-axis) in the phase portrait. Moreover, the change in $q$ is determined by the value of $\\dot{q}$. Therefore, it cannot move the system along a straight line following the blue trajectory (i.e., the resultant vector can have only a positive x-component in this region). On the other hand, we can move the system along the red trajectory, as the resultant vector can have a negative x-component in this region. \n",
    "\n",
    "c. <u>Ans:</u> No, for example, when $\\mathbf{\\dot{q}}_{des}$ > 0 and $\\mathbf{q}_{des} = 0$, $\\mathbf{q}$ will change according to $\\mathbf{\\dot{q}}$. We cannot find any possible $u$ that can maintain $\\mathbf{x}(t) = \\mathbf{x}_{des}(t)$ for all $t \\geq 0$.\n"
   ]
  },
  {
   "cell_type": "markdown",
   "metadata": {},
   "source": [
    "**Exercise 1.3 (Task-Space Control of the Double Pendulum)**\n",
    "\n",
    "<u>Ans:</u> No, for example, in the case of $\\theta_{1} = 0$ and $\\theta_{2} = 0$, we cannot change $\\theta_{2}$ without changing $\\theta_{1}$. We can also see this from the $\\mathbf{B}$ matrix, which has rank 1. Thus, rank($\\mathbf{B}$) = 1 < dim $(\\mathbf{q})$ = 2.\n",
    "$$\n",
    "\\mathbf{B} =\n",
    "\\begin{bmatrix}\n",
    "l_{1} + l_{2} & 0 \\\\\n",
    "l_{2} & 0\n",
    "\\end{bmatrix} \\\\\n",
    "\\text{rank}(\\mathbf{B}) = 1\n",
    "$$\n"
   ]
  },
  {
   "cell_type": "markdown",
   "metadata": {},
   "source": [
    "**Exercise 1.4 (Underactuation of the Planar Quadrotor)**\n",
    "\n",
    "a. <u>Ans:</u> This system is underactuated in any set of states because the number of actuators is less than the number of degrees of freedom.\n",
    "\n",
    "b. <u>Ans:</u> It cannot maintain a zero change in orientation while simultaneously changing position in the x and y directions. To illustrate this, consider the following example: $\\ddot{\\theta} = 0, \\ddot{y} = 3$ and $\\ddot{x} = 1$. This is not possible because the quadrotor must rotate in order to move in the x direction."
   ]
  }
 ],
 "metadata": {
  "kernelspec": {
   "display_name": "control_env",
   "language": "python",
   "name": "python3"
  },
  "language_info": {
   "codemirror_mode": {
    "name": "ipython",
    "version": 3
   },
   "file_extension": ".py",
   "mimetype": "text/x-python",
   "name": "python",
   "nbconvert_exporter": "python",
   "pygments_lexer": "ipython3",
   "version": "3.10.12"
  }
 },
 "nbformat": 4,
 "nbformat_minor": 2
}
