{
 "cells": [
  {
   "cell_type": "markdown",
   "metadata": {},
   "source": [
    "**Exercise 2.1 (Graphical Analysis)**\n",
    "\n",
    "For each equilibrium point, determine whether it is unstable, stable i.s.L., asymptotically stable, or exponentially stable.\n",
    "\n",
    "<u>Ans:</u> \n",
    "\n",
    "- $x^* = -1$, this fixed point is unstable.\n",
    "\n",
    "- $x^* = 0$, this fixed point is exponentially stable. We can verify this by linearizing the system around $x^* = 0$ and checking if the linearization is stable as follows:\n",
    "    $$\n",
    "    \\begin{align*}\n",
    "    \\frac{d\\Delta x}{dt} &= (-5x^4 + 6x^2 - 1) \\big|_{x=0} \\Delta x \\\\\n",
    "    \\frac{d\\Delta x}{dt} &= - \\Delta x \n",
    "    \\end{align*}\n",
    "    $$\n",
    "    The linearization is stable, so the fixed point is exponentially stable.\n",
    "\n",
    "- $x^* = 1$, this fixed point is unstable.\n",
    "\n",
    "- $x^* \\in (1, 2)$, these fixed points are stable i.s.L..\n",
    "\n",
    "- $x^* = 2$, this fixed point is stable i.s.L.."
   ]
  },
  {
   "cell_type": "markdown",
   "metadata": {},
   "source": [
    "**Exercise 2.2 (Basin of Attraction and Bifurcation Diagram)**\n",
    "\n",
    "*a. Sketch the graph of the function $f(x)$, and identify all the equilibrium points. (Feel free to plot this with a tool of your choice to check your work.)*\n",
    "\n",
    "<u>Ans:</u> Fixed points are $x^* = -3, 2$ and $5$. \n",
    "\n",
    "<div style=\"text-align: center;\">\n",
    "    <img src=\"./figures/ex2_2-a.png\" alt=\"ex2_2-a\" style=\"width:30%;\">\n",
    "</div>\n",
    "\n",
    "*b. For each equilibrium point, determine whether it is stable (i.s.L.) or unstable. For each one of the stable equilibria, identify the basin of attraction.*\n",
    "\n",
    "<u>Ans:</u> \n",
    "- At $x^* = -3$, the fixed point is stable i.s.L. and the basin of attraction is $(-\\infty, 2)$.  \n",
    "- At $x^* = 2$, the fixed point is unstable. \n",
    "- At $x^* = 5$, the fixed point is stable i.s.L. and the basin of attraction is $(2, \\infty)$.\n",
    "\n",
    "*c. Consider an additive term in $w$ in the system dynamics: $\\dot{x} = f(x) + w$. As $w$ ranges from $0$ to $\\inf$, determine how many stable and unstable equilibrium points the system has. Support your answer with a sketch of the bifurcation diagram for nonnegative values of $w$.*\n",
    "\n",
    "<u>Ans:</u> The system will have the bifurcation at $w = 36$. At this point, the fixed points are $x^* = -1$ and $6$, which are unstable and stable i.s.L., respectively. After this point, where $w > 36$, there will be only one stable i.s.L. fixed point."
   ]
  },
  {
   "cell_type": "markdown",
   "metadata": {},
   "source": [
    "**Exercise 2.3 (Enumerate Unstable Equilibria)**\n",
    "\n",
    "<u>Ans:</u> \n",
    "- Minimum 2 unstable fixed points.\n",
    "- Maximum $\\inf$ unstable fixed points; for example, we can have an unlimited number of unstable fixed points from $\\dot{x}$ touching the $x$-axis but not crossing it.\n"
   ]
  },
  {
   "cell_type": "markdown",
   "metadata": {},
   "source": [
    "**Exercise 2.4 (Attractivity vs Stability)**\n",
    "\n",
    "Link to the notebook: [Attractivity vs Stability](./attractivity_vs_stability.ipynb)\n",
    "\n",
    "*a. Find all the equilibrium points of this system (no need to look outside the portion of state space depicted above). Use the notebook to double check your answer: simulate the evolution of the system setting the equilibrium points you identified as initial conditions.*\n",
    "\n",
    "<u>Ans:</u> Fixed points are $x^* = [x_1^*, x_2^*] = [0, 0]$ and $[1, 0]$.\n",
    "\n",
    "*b. Determine whether the equilibria you identified at the previous point are attractive and/or stable i.s.L. Explain briefly your reasoning, and feel free to include some plots generated with the notebook in your written answer.*\n",
    "\n",
    "<u>Ans:</u>\n",
    "- At $x^* = [0, 0]$, the fixed point is unstable.\n",
    "- At $x^* = [1, 0]$, the fixed point is attractive but not stable i.s.L.\n",
    "\n",
    "*c. This dynamical system is a (very) close relative of one of the systems we analyzed in this chapter. Can you guess which one is it? What is the connection between the two? Extra points: support your claim with a mathematical derivation.*\n",
    "\n",
    "<u>Ans:</u> Check Example 2.3 in the text book. This can be derived by setting $x_1 = r \\cos(\\theta)$ and $x_2 = r \\sin(\\theta)$, and then substituting these into the system of equations."
   ]
  },
  {
   "cell_type": "markdown",
   "metadata": {},
   "source": [
    "**Excercise 2.5 (Pendulum with Vibrating Base)**\n",
    "\n",
    "*a. Identify some dynamics function $\\dot{q} = f(q)$ whose unique equilibrium point is stable and is located in $q = 1$.*\n",
    "\n",
    "<u>Ans:</u> $f(q) = -q + 1$.\n",
    "\n",
    "*b.*\n",
    "\n",
    "<u>Ans:</u> Consider the system $$ml^2\\ddot{\\theta} + mgl\\text{sin}(\\theta) = ml\\omega^2h\\text{sin}(\\omega t)\\text{cos}\\theta + u$$\n",
    "\n",
    "We can design a feedback cancellation control law $u = \\pi (\\theta,\\dot{\\theta},t)$ such that $\\ddot{\\theta} = f(\\dot{\\theta}) = - \\dot{\\theta} + 1$ (from part a) as follows:\n",
    "$$\n",
    "u = - ml\\omega^2h\\text{sin}(\\omega t)\\text{cos}\\theta + mgl\\text{sin}(\\theta) + ml^2(-\\dot{\\theta} + 1)\n",
    "$$ \n",
    "Then the system dynamics will be:\n",
    "$$\n",
    "\\begin{align*}\n",
    "ml^2\\ddot{\\theta} = ml^2(-\\dot{\\theta} + 1) \\\\\n",
    "\\ddot{\\theta} = -\\dot{\\theta} + 1\n",
    "\\end{align*}\n",
    "$$\n",
    "\n",
    "*c.* \n",
    "\n",
    " Link to the notebook: [Pendulum with Vibrating Base](./vibrating_pendulum.ipynb)"
   ]
  },
  {
   "cell_type": "markdown",
   "metadata": {},
   "source": [
    "**Excercise 2.6 (Hopfield Networks)**\n",
    "\n",
    "*a.* \n",
    "\n",
    "Link to the notebook: [Hopfield Networks](./hopfield_network.ipynb)\n",
    "\n",
    "*b.*\n",
    "\n",
    "<u>Ans:</u> Equilibrium points at $x^* = [1, 0], [0, 1]$ and $[-1, -1]$ are stable i.s.L. The equilibrium point at $x^* = [0, 0]$ is unstable.\n",
    "\n",
    "*c.*\n",
    "\n",
    "<u>Ans:</u> Each row of the matrix $A$ equals to the equilibrium point of the system.\n",
    "\n",
    "*d.* \n",
    "\n",
    "Link to the notebook: [Hopfield Networks](./hopfield_network.ipynb)"
   ]
  }
 ],
 "metadata": {
  "kernelspec": {
   "display_name": "control_env",
   "language": "python",
   "name": "python3"
  },
  "language_info": {
   "name": "python",
   "version": "3.10.12"
  }
 },
 "nbformat": 4,
 "nbformat_minor": 2
}
